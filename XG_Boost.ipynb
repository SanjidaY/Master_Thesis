{
 "cells": [
  {
   "cell_type": "markdown",
   "metadata": {},
   "source": [
    "Columns:\n",
    "TopologyId: Categorical (machine/station ID).\n",
    "MessageTime, EventDateTime: Timestamps for error and resolution.\n",
    "MessageText: PLC error text (e.g., \"Error : 977 : ...\").\n",
    "translated_comments: Operator free-text observation (e.g., \"detained EOL\").\n",
    "maintenance_comments: Target variable (e.g., \"Error removal, automatic mode reset...\").\n",
    "msg_hour, msg_dayofweek, msg_weekend, event_hour, event_dayofweek, event_weekend: Temporal features.\n",
    "msg_shift, event_shift: Shift categories (e.g., \"night\").\n",
    "response_time_minutes: Numerical (time to resolve).\n",
    "Sample Insight:\n",
    "Multiple MessageText (e.g., \"Error : 977\", \"Error : 1132\") map to one EventDateTime (04:20:51.840) and one maintenance_comments, suggesting batch resolution within a 5-hour window.\n",
    "translated_comments (\"detained EOL\") is consistent across rows, possibly tied to the batch.\n",
    "Goal: Predict maintenance_comments from MessageText, translated_comments, and supporting features (TopologyId, response_time_minutes, etc.) using XGBoost as a baseline."
   ]
  },
  {
   "cell_type": "code",
   "execution_count": 1,
   "metadata": {},
   "outputs": [
    {
     "name": "stdout",
     "output_type": "stream",
     "text": [
      "WARNING:tensorflow:From d:\\Python3.11.1\\Lib\\site-packages\\tf_keras\\src\\losses.py:2976: The name tf.losses.sparse_softmax_cross_entropy is deprecated. Please use tf.compat.v1.losses.sparse_softmax_cross_entropy instead.\n",
      "\n"
     ]
    }
   ],
   "source": [
    "import pandas as pd\n",
    "import numpy as np\n",
    "from sentence_transformers import SentenceTransformer\n",
    "from sklearn.preprocessing import LabelEncoder\n",
    "from sklearn.model_selection import train_test_split\n",
    "from xgboost import XGBClassifier\n",
    "from sklearn.metrics import accuracy_score, classification_report\n",
    "import pickle"
   ]
  },
  {
   "cell_type": "code",
   "execution_count": 4,
   "metadata": {},
   "outputs": [],
   "source": [
    "\n",
    "path = r'C:/Users/yasmin_s1/sanjida_projects/projects/mater_thesis/ML/Datasets/Dataset_7months/'\n",
    "df = pd.read_csv(path + 'cleaned_dataset.csv')"
   ]
  },
  {
   "cell_type": "markdown",
   "metadata": {},
   "source": [
    "The goal was to remove true duplicates—rows that are identical in every meaningful way (same error, same operator comment, same solution, same machine, same error time). MessageTime captures the error occurrence, while EventDateTime is the resolution time, which might group multiple errors.\n",
    "Example: Rows 1-5 in my sample differ by MessageText and MessageTime but share EventDateTime and maintenance_comments. These aren’t duplicates—they’re distinct errors in a batch."
   ]
  },
  {
   "cell_type": "code",
   "execution_count": 6,
   "metadata": {},
   "outputs": [
    {
     "name": "stdout",
     "output_type": "stream",
     "text": [
      "Rows after deduplication: 65325\n"
     ]
    }
   ],
   "source": [
    "# Convert timestamps\n",
    "df['MessageTime'] = pd.to_datetime(df['MessageTime'])\n",
    "df['EventDateTime'] = pd.to_datetime(df['EventDateTime'])\n",
    "\n",
    "# Remove true duplicates (exact matches across key columns)\n",
    "strict_subset = ['TopologyId', 'MessageText', 'operator_comments', 'maintenance_comments', \n",
    "                 'response_time_minutes', 'MessageTime']\n",
    "df = df.drop_duplicates(subset=strict_subset)\n",
    "print(f\"Rows after deduplication: {len(df)}\")"
   ]
  },
  {
   "cell_type": "code",
   "execution_count": 8,
   "metadata": {},
   "outputs": [
    {
     "name": "stdout",
     "output_type": "stream",
     "text": [
      "Rows after dropping NA: 65325, unique maintenance_comments: 1628\n"
     ]
    }
   ],
   "source": [
    "# Handle missing values\n",
    "df = df.dropna(subset=['MessageText', 'operator_comments', 'maintenance_comments'])\n",
    "print(f\"Rows after dropping NA: {len(df)}, unique maintenance_comments: {df['maintenance_comments'].nunique()}\")"
   ]
  },
  {
   "cell_type": "markdown",
   "metadata": {},
   "source": [
    "384D embeddings refer to vector representations in a 384-dimensional space. In the context of machine learning and natural language processing (NLP), embeddings are numeric representations of text or other entities that capture semantic meaning in a lower-dimensional vector space."
   ]
  },
  {
   "cell_type": "code",
   "execution_count": 9,
   "metadata": {},
   "outputs": [
    {
     "data": {
      "application/vnd.jupyter.widget-view+json": {
       "model_id": "338c3f204cd345ce941ad433ae0c26d5",
       "version_major": 2,
       "version_minor": 0
      },
      "text/plain": [
       "README.md:   0%|          | 0.00/10.5k [00:00<?, ?B/s]"
      ]
     },
     "metadata": {},
     "output_type": "display_data"
    },
    {
     "data": {
      "application/vnd.jupyter.widget-view+json": {
       "model_id": "034fa79d602f4a6fafbc821f987be78c",
       "version_major": 2,
       "version_minor": 0
      },
      "text/plain": [
       "Batches:   0%|          | 0/2042 [00:00<?, ?it/s]"
      ]
     },
     "metadata": {},
     "output_type": "display_data"
    },
    {
     "data": {
      "application/vnd.jupyter.widget-view+json": {
       "model_id": "9d1e3ec353514b4e801c7b0c7451b0ee",
       "version_major": 2,
       "version_minor": 0
      },
      "text/plain": [
       "Batches:   0%|          | 0/2042 [00:00<?, ?it/s]"
      ]
     },
     "metadata": {},
     "output_type": "display_data"
    }
   ],
   "source": [
    "# Step 2: Feature Engineering\n",
    "# Text embeddings for MessageText and translated_comments\n",
    "model = SentenceTransformer('all-MiniLM-L6-v2')  # 384D embeddings\n",
    "msg_embeddings = model.encode(df['MessageText'].tolist(), show_progress_bar=True)\n",
    "trans_embeddings = model.encode(df['operator_comments'].tolist(), show_progress_bar=True)"
   ]
  },
  {
   "cell_type": "code",
   "execution_count": 10,
   "metadata": {},
   "outputs": [],
   "source": [
    "# Convert to DataFrames\n",
    "msg_emb_df = pd.DataFrame(msg_embeddings, columns=[f'msg_emb_{i}' for i in range(msg_embeddings.shape[1])])\n",
    "op_emb_df = pd.DataFrame(trans_embeddings, columns=[f'op_emb_{i}' for i in range(trans_embeddings.shape[1])])\n",
    "df = pd.concat([df.reset_index(drop=True), msg_emb_df, op_emb_df], axis=1)"
   ]
  },
  {
   "cell_type": "code",
   "execution_count": 11,
   "metadata": {},
   "outputs": [],
   "source": [
    "# Encode categorical features\n",
    "le_topology = LabelEncoder()\n",
    "le_shift_msg = LabelEncoder()\n",
    "le_shift_event = LabelEncoder()\n",
    "df['TopologyId_encoded'] = le_topology.fit_transform(df['TopologyId'])\n",
    "df['msg_shift_encoded'] = le_shift_msg.fit_transform(df['msg_shift'])\n",
    "df['event_shift_encoded'] = le_shift_event.fit_transform(df['event_shift'])"
   ]
  },
  {
   "cell_type": "code",
   "execution_count": 12,
   "metadata": {},
   "outputs": [],
   "source": [
    "# Target encoding\n",
    "le_target = LabelEncoder()\n",
    "df['maintenance_comments_encoded'] = le_target.fit_transform(df['maintenance_comments'])"
   ]
  },
  {
   "cell_type": "code",
   "execution_count": 14,
   "metadata": {},
   "outputs": [],
   "source": [
    "# Select features for XGBoost (excluding MessageTime, EventDateTime)\n",
    "features = (['TopologyId_encoded', 'response_time_minutes', 'msg_hour', 'msg_dayofweek', \n",
    "             'msg_weekend', 'event_hour', 'event_dayofweek', 'event_weekend', \n",
    "             'msg_shift_encoded', 'event_shift_encoded'] + \n",
    "            [f'msg_emb_{i}' for i in range(msg_embeddings.shape[1])] + \n",
    "            [f'op_emb_{i}' for i in range(trans_embeddings.shape[1])])\n",
    "X = df[features]\n",
    "y = df['maintenance_comments_encoded']"
   ]
  },
  {
   "cell_type": "code",
   "execution_count": 15,
   "metadata": {},
   "outputs": [
    {
     "name": "stdout",
     "output_type": "stream",
     "text": [
      "Features shape: (65325, 778), unique labels: 1628\n"
     ]
    }
   ],
   "source": [
    "# Save processed dataset\n",
    "df.to_csv(path + \"processed_dataset_for_XGB.csv\", index=False)\n",
    "print(f\"Features shape: {X.shape}, unique labels: {y.nunique()}\")"
   ]
  },
  {
   "cell_type": "code",
   "execution_count": 65,
   "metadata": {},
   "outputs": [
    {
     "name": "stdout",
     "output_type": "stream",
     "text": [
      "Loaded rows: 65325, columns: 787\n"
     ]
    }
   ],
   "source": [
    "df = pd.read_csv(path + \"processed_dataset_for_XGB.csv\")\n",
    "print(f\"Loaded rows: {len(df)}, columns: {len(df.columns)}\")"
   ]
  },
  {
   "cell_type": "code",
   "execution_count": 66,
   "metadata": {},
   "outputs": [
    {
     "name": "stdout",
     "output_type": "stream",
     "text": [
      "Rows after removing rare classes: 65181, unique labels: 1484\n"
     ]
    }
   ],
   "source": [
    "# Step 2: Filter Rare Classes (<2 instances)\n",
    "class_counts = df['maintenance_comments_encoded'].value_counts()\n",
    "rare_classes = class_counts[class_counts < 2].index\n",
    "df = df[~df['maintenance_comments_encoded'].isin(rare_classes)]\n",
    "print(f\"Rows after removing rare classes: {len(df)}, unique labels: {df['maintenance_comments_encoded'].nunique()}\")"
   ]
  },
  {
   "cell_type": "code",
   "execution_count": 67,
   "metadata": {},
   "outputs": [
    {
     "name": "stdout",
     "output_type": "stream",
     "text": [
      "Features shape: (65181, 778), unique labels: 1484\n"
     ]
    }
   ],
   "source": [
    "# Step 3: Define Features and Target\n",
    "features = (['TopologyId_encoded', 'response_time_minutes', 'msg_hour', 'msg_dayofweek', \n",
    "             'msg_weekend', 'event_hour', 'event_dayofweek', 'event_weekend', \n",
    "             'msg_shift_encoded', 'event_shift_encoded'] + \n",
    "            [f'msg_emb_{i}' for i in range(384)] + \n",
    "            [f'op_emb_{i}' for i in range(384)])\n",
    "X = df[features]\n",
    "y = df['maintenance_comments_encoded']\n",
    "# Verify shapes\n",
    "print(f\"Features shape: {X.shape}, unique labels: {y.nunique()}\")"
   ]
  },
  {
   "cell_type": "code",
   "execution_count": 68,
   "metadata": {},
   "outputs": [
    {
     "name": "stdout",
     "output_type": "stream",
     "text": [
      "After first split - Train: (45626, 778), Temp: (19555, 778)\n"
     ]
    }
   ],
   "source": [
    "# Step 4: Train-Test Split with Dynamic Filter\n",
    "# First split\n",
    "X_train, X_temp, y_train, y_temp = train_test_split(X, y, test_size=0.3, random_state=42, stratify=y)\n",
    "print(f\"After first split - Train: {X_train.shape}, Temp: {X_temp.shape}\")"
   ]
  },
  {
   "cell_type": "code",
   "execution_count": 69,
   "metadata": {},
   "outputs": [
    {
     "name": "stdout",
     "output_type": "stream",
     "text": [
      "After filtering y_temp - Temp rows: 19159, unique labels: 1088\n"
     ]
    }
   ],
   "source": [
    "# Filter rare classes in y_temp\n",
    "temp_df = pd.DataFrame({'y_temp': y_temp}, index=X_temp.index)\n",
    "temp_counts = temp_df['y_temp'].value_counts()\n",
    "temp_rare = temp_counts[temp_counts < 2].index\n",
    "keep_indices = ~temp_df['y_temp'].isin(temp_rare)\n",
    "X_temp = X_temp[keep_indices]\n",
    "y_temp = y_temp[keep_indices]\n",
    "print(f\"After filtering y_temp - Temp rows: {len(X_temp)}, unique labels: {y_temp.nunique()}\")"
   ]
  },
  {
   "cell_type": "code",
   "execution_count": 70,
   "metadata": {},
   "outputs": [
    {
     "name": "stdout",
     "output_type": "stream",
     "text": [
      "Final split - Train: (45626, 778), Val: (9579, 778), Test: (9580, 778)\n"
     ]
    }
   ],
   "source": [
    "# Second split\n",
    "X_val, X_test, y_val, y_test = train_test_split(X_temp, y_temp, test_size=0.5, random_state=42, stratify=y_temp)\n",
    "print(f\"Final split - Train: {X_train.shape}, Val: {X_val.shape}, Test: {X_test.shape}\")"
   ]
  },
  {
   "cell_type": "code",
   "execution_count": 71,
   "metadata": {},
   "outputs": [],
   "source": [
    "# Step 5: Re-encode Labels After Filtering\n",
    "# Combine all final labels\n",
    "final_labels = np.concatenate([y_train, y_val, y_test])\n",
    "le_final = LabelEncoder()\n",
    "final_labels_encoded = le_final.fit_transform(final_labels)  # Re-encode to 0 to num_classes-1\n"
   ]
  },
  {
   "cell_type": "code",
   "execution_count": 72,
   "metadata": {},
   "outputs": [],
   "source": [
    "# Split re-encoded labels back\n",
    "train_size = len(y_train)\n",
    "val_size = len(y_val)\n",
    "y_train = final_labels_encoded[:train_size]\n",
    "y_val = final_labels_encoded[train_size:train_size + val_size]\n",
    "y_test = final_labels_encoded[train_size + val_size:]"
   ]
  },
  {
   "cell_type": "code",
   "execution_count": 73,
   "metadata": {},
   "outputs": [
    {
     "name": "stdout",
     "output_type": "stream",
     "text": [
      "Re-encoded y_train min/max: 0/1483\n",
      "Re-encoded y_val min/max: 2/1483\n",
      "Re-encoded y_test min/max: 2/1483\n"
     ]
    }
   ],
   "source": [
    "# Verify new range\n",
    "print(f\"Re-encoded y_train min/max: {y_train.min()}/{y_train.max()}\")\n",
    "print(f\"Re-encoded y_val min/max: {y_val.min()}/{y_val.max()}\")\n",
    "print(f\"Re-encoded y_test min/max: {y_test.min()}/{y_test.max()}\")"
   ]
  },
  {
   "cell_type": "code",
   "execution_count": 74,
   "metadata": {},
   "outputs": [
    {
     "data": {
      "text/html": [
       "<style>#sk-container-id-2 {\n",
       "  /* Definition of color scheme common for light and dark mode */\n",
       "  --sklearn-color-text: black;\n",
       "  --sklearn-color-line: gray;\n",
       "  /* Definition of color scheme for unfitted estimators */\n",
       "  --sklearn-color-unfitted-level-0: #fff5e6;\n",
       "  --sklearn-color-unfitted-level-1: #f6e4d2;\n",
       "  --sklearn-color-unfitted-level-2: #ffe0b3;\n",
       "  --sklearn-color-unfitted-level-3: chocolate;\n",
       "  /* Definition of color scheme for fitted estimators */\n",
       "  --sklearn-color-fitted-level-0: #f0f8ff;\n",
       "  --sklearn-color-fitted-level-1: #d4ebff;\n",
       "  --sklearn-color-fitted-level-2: #b3dbfd;\n",
       "  --sklearn-color-fitted-level-3: cornflowerblue;\n",
       "\n",
       "  /* Specific color for light theme */\n",
       "  --sklearn-color-text-on-default-background: var(--sg-text-color, var(--theme-code-foreground, var(--jp-content-font-color1, black)));\n",
       "  --sklearn-color-background: var(--sg-background-color, var(--theme-background, var(--jp-layout-color0, white)));\n",
       "  --sklearn-color-border-box: var(--sg-text-color, var(--theme-code-foreground, var(--jp-content-font-color1, black)));\n",
       "  --sklearn-color-icon: #696969;\n",
       "\n",
       "  @media (prefers-color-scheme: dark) {\n",
       "    /* Redefinition of color scheme for dark theme */\n",
       "    --sklearn-color-text-on-default-background: var(--sg-text-color, var(--theme-code-foreground, var(--jp-content-font-color1, white)));\n",
       "    --sklearn-color-background: var(--sg-background-color, var(--theme-background, var(--jp-layout-color0, #111)));\n",
       "    --sklearn-color-border-box: var(--sg-text-color, var(--theme-code-foreground, var(--jp-content-font-color1, white)));\n",
       "    --sklearn-color-icon: #878787;\n",
       "  }\n",
       "}\n",
       "\n",
       "#sk-container-id-2 {\n",
       "  color: var(--sklearn-color-text);\n",
       "}\n",
       "\n",
       "#sk-container-id-2 pre {\n",
       "  padding: 0;\n",
       "}\n",
       "\n",
       "#sk-container-id-2 input.sk-hidden--visually {\n",
       "  border: 0;\n",
       "  clip: rect(1px 1px 1px 1px);\n",
       "  clip: rect(1px, 1px, 1px, 1px);\n",
       "  height: 1px;\n",
       "  margin: -1px;\n",
       "  overflow: hidden;\n",
       "  padding: 0;\n",
       "  position: absolute;\n",
       "  width: 1px;\n",
       "}\n",
       "\n",
       "#sk-container-id-2 div.sk-dashed-wrapped {\n",
       "  border: 1px dashed var(--sklearn-color-line);\n",
       "  margin: 0 0.4em 0.5em 0.4em;\n",
       "  box-sizing: border-box;\n",
       "  padding-bottom: 0.4em;\n",
       "  background-color: var(--sklearn-color-background);\n",
       "}\n",
       "\n",
       "#sk-container-id-2 div.sk-container {\n",
       "  /* jupyter's `normalize.less` sets `[hidden] { display: none; }`\n",
       "     but bootstrap.min.css set `[hidden] { display: none !important; }`\n",
       "     so we also need the `!important` here to be able to override the\n",
       "     default hidden behavior on the sphinx rendered scikit-learn.org.\n",
       "     See: https://github.com/scikit-learn/scikit-learn/issues/21755 */\n",
       "  display: inline-block !important;\n",
       "  position: relative;\n",
       "}\n",
       "\n",
       "#sk-container-id-2 div.sk-text-repr-fallback {\n",
       "  display: none;\n",
       "}\n",
       "\n",
       "div.sk-parallel-item,\n",
       "div.sk-serial,\n",
       "div.sk-item {\n",
       "  /* draw centered vertical line to link estimators */\n",
       "  background-image: linear-gradient(var(--sklearn-color-text-on-default-background), var(--sklearn-color-text-on-default-background));\n",
       "  background-size: 2px 100%;\n",
       "  background-repeat: no-repeat;\n",
       "  background-position: center center;\n",
       "}\n",
       "\n",
       "/* Parallel-specific style estimator block */\n",
       "\n",
       "#sk-container-id-2 div.sk-parallel-item::after {\n",
       "  content: \"\";\n",
       "  width: 100%;\n",
       "  border-bottom: 2px solid var(--sklearn-color-text-on-default-background);\n",
       "  flex-grow: 1;\n",
       "}\n",
       "\n",
       "#sk-container-id-2 div.sk-parallel {\n",
       "  display: flex;\n",
       "  align-items: stretch;\n",
       "  justify-content: center;\n",
       "  background-color: var(--sklearn-color-background);\n",
       "  position: relative;\n",
       "}\n",
       "\n",
       "#sk-container-id-2 div.sk-parallel-item {\n",
       "  display: flex;\n",
       "  flex-direction: column;\n",
       "}\n",
       "\n",
       "#sk-container-id-2 div.sk-parallel-item:first-child::after {\n",
       "  align-self: flex-end;\n",
       "  width: 50%;\n",
       "}\n",
       "\n",
       "#sk-container-id-2 div.sk-parallel-item:last-child::after {\n",
       "  align-self: flex-start;\n",
       "  width: 50%;\n",
       "}\n",
       "\n",
       "#sk-container-id-2 div.sk-parallel-item:only-child::after {\n",
       "  width: 0;\n",
       "}\n",
       "\n",
       "/* Serial-specific style estimator block */\n",
       "\n",
       "#sk-container-id-2 div.sk-serial {\n",
       "  display: flex;\n",
       "  flex-direction: column;\n",
       "  align-items: center;\n",
       "  background-color: var(--sklearn-color-background);\n",
       "  padding-right: 1em;\n",
       "  padding-left: 1em;\n",
       "}\n",
       "\n",
       "\n",
       "/* Toggleable style: style used for estimator/Pipeline/ColumnTransformer box that is\n",
       "clickable and can be expanded/collapsed.\n",
       "- Pipeline and ColumnTransformer use this feature and define the default style\n",
       "- Estimators will overwrite some part of the style using the `sk-estimator` class\n",
       "*/\n",
       "\n",
       "/* Pipeline and ColumnTransformer style (default) */\n",
       "\n",
       "#sk-container-id-2 div.sk-toggleable {\n",
       "  /* Default theme specific background. It is overwritten whether we have a\n",
       "  specific estimator or a Pipeline/ColumnTransformer */\n",
       "  background-color: var(--sklearn-color-background);\n",
       "}\n",
       "\n",
       "/* Toggleable label */\n",
       "#sk-container-id-2 label.sk-toggleable__label {\n",
       "  cursor: pointer;\n",
       "  display: block;\n",
       "  width: 100%;\n",
       "  margin-bottom: 0;\n",
       "  padding: 0.5em;\n",
       "  box-sizing: border-box;\n",
       "  text-align: center;\n",
       "}\n",
       "\n",
       "#sk-container-id-2 label.sk-toggleable__label-arrow:before {\n",
       "  /* Arrow on the left of the label */\n",
       "  content: \"▸\";\n",
       "  float: left;\n",
       "  margin-right: 0.25em;\n",
       "  color: var(--sklearn-color-icon);\n",
       "}\n",
       "\n",
       "#sk-container-id-2 label.sk-toggleable__label-arrow:hover:before {\n",
       "  color: var(--sklearn-color-text);\n",
       "}\n",
       "\n",
       "/* Toggleable content - dropdown */\n",
       "\n",
       "#sk-container-id-2 div.sk-toggleable__content {\n",
       "  max-height: 0;\n",
       "  max-width: 0;\n",
       "  overflow: hidden;\n",
       "  text-align: left;\n",
       "  /* unfitted */\n",
       "  background-color: var(--sklearn-color-unfitted-level-0);\n",
       "}\n",
       "\n",
       "#sk-container-id-2 div.sk-toggleable__content.fitted {\n",
       "  /* fitted */\n",
       "  background-color: var(--sklearn-color-fitted-level-0);\n",
       "}\n",
       "\n",
       "#sk-container-id-2 div.sk-toggleable__content pre {\n",
       "  margin: 0.2em;\n",
       "  border-radius: 0.25em;\n",
       "  color: var(--sklearn-color-text);\n",
       "  /* unfitted */\n",
       "  background-color: var(--sklearn-color-unfitted-level-0);\n",
       "}\n",
       "\n",
       "#sk-container-id-2 div.sk-toggleable__content.fitted pre {\n",
       "  /* unfitted */\n",
       "  background-color: var(--sklearn-color-fitted-level-0);\n",
       "}\n",
       "\n",
       "#sk-container-id-2 input.sk-toggleable__control:checked~div.sk-toggleable__content {\n",
       "  /* Expand drop-down */\n",
       "  max-height: 200px;\n",
       "  max-width: 100%;\n",
       "  overflow: auto;\n",
       "}\n",
       "\n",
       "#sk-container-id-2 input.sk-toggleable__control:checked~label.sk-toggleable__label-arrow:before {\n",
       "  content: \"▾\";\n",
       "}\n",
       "\n",
       "/* Pipeline/ColumnTransformer-specific style */\n",
       "\n",
       "#sk-container-id-2 div.sk-label input.sk-toggleable__control:checked~label.sk-toggleable__label {\n",
       "  color: var(--sklearn-color-text);\n",
       "  background-color: var(--sklearn-color-unfitted-level-2);\n",
       "}\n",
       "\n",
       "#sk-container-id-2 div.sk-label.fitted input.sk-toggleable__control:checked~label.sk-toggleable__label {\n",
       "  background-color: var(--sklearn-color-fitted-level-2);\n",
       "}\n",
       "\n",
       "/* Estimator-specific style */\n",
       "\n",
       "/* Colorize estimator box */\n",
       "#sk-container-id-2 div.sk-estimator input.sk-toggleable__control:checked~label.sk-toggleable__label {\n",
       "  /* unfitted */\n",
       "  background-color: var(--sklearn-color-unfitted-level-2);\n",
       "}\n",
       "\n",
       "#sk-container-id-2 div.sk-estimator.fitted input.sk-toggleable__control:checked~label.sk-toggleable__label {\n",
       "  /* fitted */\n",
       "  background-color: var(--sklearn-color-fitted-level-2);\n",
       "}\n",
       "\n",
       "#sk-container-id-2 div.sk-label label.sk-toggleable__label,\n",
       "#sk-container-id-2 div.sk-label label {\n",
       "  /* The background is the default theme color */\n",
       "  color: var(--sklearn-color-text-on-default-background);\n",
       "}\n",
       "\n",
       "/* On hover, darken the color of the background */\n",
       "#sk-container-id-2 div.sk-label:hover label.sk-toggleable__label {\n",
       "  color: var(--sklearn-color-text);\n",
       "  background-color: var(--sklearn-color-unfitted-level-2);\n",
       "}\n",
       "\n",
       "/* Label box, darken color on hover, fitted */\n",
       "#sk-container-id-2 div.sk-label.fitted:hover label.sk-toggleable__label.fitted {\n",
       "  color: var(--sklearn-color-text);\n",
       "  background-color: var(--sklearn-color-fitted-level-2);\n",
       "}\n",
       "\n",
       "/* Estimator label */\n",
       "\n",
       "#sk-container-id-2 div.sk-label label {\n",
       "  font-family: monospace;\n",
       "  font-weight: bold;\n",
       "  display: inline-block;\n",
       "  line-height: 1.2em;\n",
       "}\n",
       "\n",
       "#sk-container-id-2 div.sk-label-container {\n",
       "  text-align: center;\n",
       "}\n",
       "\n",
       "/* Estimator-specific */\n",
       "#sk-container-id-2 div.sk-estimator {\n",
       "  font-family: monospace;\n",
       "  border: 1px dotted var(--sklearn-color-border-box);\n",
       "  border-radius: 0.25em;\n",
       "  box-sizing: border-box;\n",
       "  margin-bottom: 0.5em;\n",
       "  /* unfitted */\n",
       "  background-color: var(--sklearn-color-unfitted-level-0);\n",
       "}\n",
       "\n",
       "#sk-container-id-2 div.sk-estimator.fitted {\n",
       "  /* fitted */\n",
       "  background-color: var(--sklearn-color-fitted-level-0);\n",
       "}\n",
       "\n",
       "/* on hover */\n",
       "#sk-container-id-2 div.sk-estimator:hover {\n",
       "  /* unfitted */\n",
       "  background-color: var(--sklearn-color-unfitted-level-2);\n",
       "}\n",
       "\n",
       "#sk-container-id-2 div.sk-estimator.fitted:hover {\n",
       "  /* fitted */\n",
       "  background-color: var(--sklearn-color-fitted-level-2);\n",
       "}\n",
       "\n",
       "/* Specification for estimator info (e.g. \"i\" and \"?\") */\n",
       "\n",
       "/* Common style for \"i\" and \"?\" */\n",
       "\n",
       ".sk-estimator-doc-link,\n",
       "a:link.sk-estimator-doc-link,\n",
       "a:visited.sk-estimator-doc-link {\n",
       "  float: right;\n",
       "  font-size: smaller;\n",
       "  line-height: 1em;\n",
       "  font-family: monospace;\n",
       "  background-color: var(--sklearn-color-background);\n",
       "  border-radius: 1em;\n",
       "  height: 1em;\n",
       "  width: 1em;\n",
       "  text-decoration: none !important;\n",
       "  margin-left: 1ex;\n",
       "  /* unfitted */\n",
       "  border: var(--sklearn-color-unfitted-level-1) 1pt solid;\n",
       "  color: var(--sklearn-color-unfitted-level-1);\n",
       "}\n",
       "\n",
       ".sk-estimator-doc-link.fitted,\n",
       "a:link.sk-estimator-doc-link.fitted,\n",
       "a:visited.sk-estimator-doc-link.fitted {\n",
       "  /* fitted */\n",
       "  border: var(--sklearn-color-fitted-level-1) 1pt solid;\n",
       "  color: var(--sklearn-color-fitted-level-1);\n",
       "}\n",
       "\n",
       "/* On hover */\n",
       "div.sk-estimator:hover .sk-estimator-doc-link:hover,\n",
       ".sk-estimator-doc-link:hover,\n",
       "div.sk-label-container:hover .sk-estimator-doc-link:hover,\n",
       ".sk-estimator-doc-link:hover {\n",
       "  /* unfitted */\n",
       "  background-color: var(--sklearn-color-unfitted-level-3);\n",
       "  color: var(--sklearn-color-background);\n",
       "  text-decoration: none;\n",
       "}\n",
       "\n",
       "div.sk-estimator.fitted:hover .sk-estimator-doc-link.fitted:hover,\n",
       ".sk-estimator-doc-link.fitted:hover,\n",
       "div.sk-label-container:hover .sk-estimator-doc-link.fitted:hover,\n",
       ".sk-estimator-doc-link.fitted:hover {\n",
       "  /* fitted */\n",
       "  background-color: var(--sklearn-color-fitted-level-3);\n",
       "  color: var(--sklearn-color-background);\n",
       "  text-decoration: none;\n",
       "}\n",
       "\n",
       "/* Span, style for the box shown on hovering the info icon */\n",
       ".sk-estimator-doc-link span {\n",
       "  display: none;\n",
       "  z-index: 9999;\n",
       "  position: relative;\n",
       "  font-weight: normal;\n",
       "  right: .2ex;\n",
       "  padding: .5ex;\n",
       "  margin: .5ex;\n",
       "  width: min-content;\n",
       "  min-width: 20ex;\n",
       "  max-width: 50ex;\n",
       "  color: var(--sklearn-color-text);\n",
       "  box-shadow: 2pt 2pt 4pt #999;\n",
       "  /* unfitted */\n",
       "  background: var(--sklearn-color-unfitted-level-0);\n",
       "  border: .5pt solid var(--sklearn-color-unfitted-level-3);\n",
       "}\n",
       "\n",
       ".sk-estimator-doc-link.fitted span {\n",
       "  /* fitted */\n",
       "  background: var(--sklearn-color-fitted-level-0);\n",
       "  border: var(--sklearn-color-fitted-level-3);\n",
       "}\n",
       "\n",
       ".sk-estimator-doc-link:hover span {\n",
       "  display: block;\n",
       "}\n",
       "\n",
       "/* \"?\"-specific style due to the `<a>` HTML tag */\n",
       "\n",
       "#sk-container-id-2 a.estimator_doc_link {\n",
       "  float: right;\n",
       "  font-size: 1rem;\n",
       "  line-height: 1em;\n",
       "  font-family: monospace;\n",
       "  background-color: var(--sklearn-color-background);\n",
       "  border-radius: 1rem;\n",
       "  height: 1rem;\n",
       "  width: 1rem;\n",
       "  text-decoration: none;\n",
       "  /* unfitted */\n",
       "  color: var(--sklearn-color-unfitted-level-1);\n",
       "  border: var(--sklearn-color-unfitted-level-1) 1pt solid;\n",
       "}\n",
       "\n",
       "#sk-container-id-2 a.estimator_doc_link.fitted {\n",
       "  /* fitted */\n",
       "  border: var(--sklearn-color-fitted-level-1) 1pt solid;\n",
       "  color: var(--sklearn-color-fitted-level-1);\n",
       "}\n",
       "\n",
       "/* On hover */\n",
       "#sk-container-id-2 a.estimator_doc_link:hover {\n",
       "  /* unfitted */\n",
       "  background-color: var(--sklearn-color-unfitted-level-3);\n",
       "  color: var(--sklearn-color-background);\n",
       "  text-decoration: none;\n",
       "}\n",
       "\n",
       "#sk-container-id-2 a.estimator_doc_link.fitted:hover {\n",
       "  /* fitted */\n",
       "  background-color: var(--sklearn-color-fitted-level-3);\n",
       "}\n",
       "</style><div id=\"sk-container-id-2\" class=\"sk-top-container\"><div class=\"sk-text-repr-fallback\"><pre>LabelEncoder()</pre><b>In a Jupyter environment, please rerun this cell to show the HTML representation or trust the notebook. <br />On GitHub, the HTML representation is unable to render, please try loading this page with nbviewer.org.</b></div><div class=\"sk-container\" hidden><div class=\"sk-item\"><div class=\"sk-estimator fitted sk-toggleable\"><input class=\"sk-toggleable__control sk-hidden--visually\" id=\"sk-estimator-id-2\" type=\"checkbox\" checked><label for=\"sk-estimator-id-2\" class=\"sk-toggleable__label fitted sk-toggleable__label-arrow fitted\">&nbsp;&nbsp;LabelEncoder<a class=\"sk-estimator-doc-link fitted\" rel=\"noreferrer\" target=\"_blank\" href=\"https://scikit-learn.org/1.5/modules/generated/sklearn.preprocessing.LabelEncoder.html\">?<span>Documentation for LabelEncoder</span></a><span class=\"sk-estimator-doc-link fitted\">i<span>Fitted</span></span></label><div class=\"sk-toggleable__content fitted\"><pre>LabelEncoder()</pre></div> </div></div></div></div>"
      ],
      "text/plain": [
       "LabelEncoder()"
      ]
     },
     "execution_count": 74,
     "metadata": {},
     "output_type": "execute_result"
    }
   ],
   "source": [
    "# Step 6: Recreate LabelEncoder for Reporting\n",
    "le_target = LabelEncoder()\n",
    "le_target.fit(df['maintenance_comments'])"
   ]
  },
  {
   "cell_type": "code",
   "execution_count": 51,
   "metadata": {},
   "outputs": [],
   "source": [
    "from xgboost import XGBClassifier, DMatrix, train, callback"
   ]
  },
  {
   "cell_type": "code",
   "execution_count": 75,
   "metadata": {},
   "outputs": [],
   "source": [
    "# Step 7: Convert to DMatrix and Train\n",
    "dtrain = DMatrix(X_train, label=y_train)\n",
    "dval = DMatrix(X_val, label=y_val)\n",
    "dtest = DMatrix(X_test, label=y_test)"
   ]
  },
  {
   "cell_type": "code",
   "execution_count": 76,
   "metadata": {},
   "outputs": [],
   "source": [
    "# Define parameters with correct num_class\n",
    "params = {\n",
    "    'max_depth': 6,\n",
    "    'learning_rate': 0.1,\n",
    "    'objective': 'multi:softmax',\n",
    "    'num_class': len(np.unique(final_labels)),  # 1,088 classes\n",
    "    'random_state': 42,\n",
    "    'tree_method': 'hist',\n",
    "    'eval_metric': 'mlogloss'\n",
    "}"
   ]
  },
  {
   "cell_type": "code",
   "execution_count": 77,
   "metadata": {},
   "outputs": [],
   "source": [
    "# Define early stopping callback\n",
    "early_stopping = callback.EarlyStopping(\n",
    "    rounds=10,\n",
    "    metric_name='mlogloss',\n",
    "    data_name='val'\n",
    ")\n"
   ]
  },
  {
   "cell_type": "code",
   "execution_count": null,
   "metadata": {},
   "outputs": [
    {
     "name": "stdout",
     "output_type": "stream",
     "text": [
      "[0]\ttrain-mlogloss:5.13060\tval-mlogloss:5.09918\n",
      "[1]\ttrain-mlogloss:4.48444\tval-mlogloss:4.43134\n",
      "[2]\ttrain-mlogloss:6.42494\tval-mlogloss:6.30355\n",
      "[3]\ttrain-mlogloss:5.50031\tval-mlogloss:5.42696\n",
      "[4]\ttrain-mlogloss:7.08069\tval-mlogloss:7.01117\n",
      "[5]\ttrain-mlogloss:5.10093\tval-mlogloss:5.04813\n",
      "[6]\ttrain-mlogloss:4.77419\tval-mlogloss:4.72750\n",
      "[7]\ttrain-mlogloss:4.16834\tval-mlogloss:4.12108\n",
      "[8]\ttrain-mlogloss:3.39872\tval-mlogloss:3.36767\n",
      "[9]\ttrain-mlogloss:3.14805\tval-mlogloss:3.11778\n",
      "[10]\ttrain-mlogloss:2.87465\tval-mlogloss:2.83800\n",
      "[11]\ttrain-mlogloss:2.23662\tval-mlogloss:2.20020\n",
      "[12]\ttrain-mlogloss:2.07126\tval-mlogloss:2.03026\n",
      "[13]\ttrain-mlogloss:1.93066\tval-mlogloss:1.89311\n",
      "[14]\ttrain-mlogloss:1.81940\tval-mlogloss:1.78452\n"
     ]
    }
   ],
   "source": [
    "# Train model\n",
    "evals = [(dtrain, 'train'), (dval, 'val')]\n",
    "model = train(\n",
    "    params,\n",
    "    dtrain,\n",
    "    num_boost_round=100,\n",
    "    evals=evals,\n",
    "    callbacks=[early_stopping],\n",
    "    verbose_eval=True\n",
    ")"
   ]
  },
  {
   "cell_type": "code",
   "execution_count": null,
   "metadata": {},
   "outputs": [],
   "source": [
    "# Step 8: Evaluate Model and Feature Importance\n",
    "y_pred_val = model.predict(dval).astype(int)\n",
    "y_pred_test = model.predict(dtest).astype(int)\n",
    "\n",
    "y_val_orig = le_final.inverse_transform(y_val)\n",
    "y_test_orig = le_final.inverse_transform(y_test)\n",
    "y_pred_val_orig = le_final.inverse_transform(y_pred_val)\n",
    "y_pred_test_orig = le_final.inverse_transform(y_pred_test)"
   ]
  },
  {
   "cell_type": "code",
   "execution_count": null,
   "metadata": {},
   "outputs": [],
   "source": [
    "print(\"\\nValidation Results:\")\n",
    "print(f\"Accuracy: {accuracy_score(y_val_orig, y_pred_val_orig):.4f}\")\n",
    "print(classification_report(y_val_orig, y_pred_val_orig, target_names=le_target.classes_[~np.isin(np.arange(len(le_target.classes_)), rare_classes)], output_dict=False))\n",
    "\n",
    "print(\"\\nTest Results:\")\n",
    "print(f\"Accuracy: {accuracy_score(y_test_orig, y_pred_test_orig):.4f}\")\n",
    "print(classification_report(y_test_orig, y_pred_test_orig, target_names=le_target.classes_[~np.isin(np.arange(len(le_target.classes_)), rare_classes)], output_dict=False))"
   ]
  },
  {
   "cell_type": "code",
   "execution_count": null,
   "metadata": {},
   "outputs": [],
   "source": [
    "importances = model.get_score(importance_type='weight')\n",
    "feature_importance_df = pd.DataFrame({\n",
    "    'Feature': [features[int(k[1:])] for k in importances.keys()],\n",
    "    'Importance': list(importances.values())\n",
    "})\n",
    "print(\"\\nFeature Importance (Top 10):\")\n",
    "print(feature_importance_df.sort_values(by='Importance', ascending=False).head(10))"
   ]
  },
  {
   "cell_type": "code",
   "execution_count": null,
   "metadata": {},
   "outputs": [],
   "source": [
    "import joblib\n",
    "import numpy as np\n",
    "import os\n",
    "\n",
    "path2 = r'C:/Users/yasmin_s1/sanjida_projects/projects/sanjida-dev1/log-parser/master-thesis/thesis work/ML/trained_model/XGB_model/'"
   ]
  },
  {
   "cell_type": "code",
   "execution_count": null,
   "metadata": {},
   "outputs": [],
   "source": [
    "# Step 9: Save Model and LabelEncoders with Confirmation\n",
    "model_file = path2 + \"xgboost_model.joblib\"\n",
    "joblib.dump(model, model_file)\n",
    "joblib.dump(le_target, path2 + \"label_encoder_target.joblib\")\n",
    "joblib.dump(le_final, path2 + \"label_encoder_final.joblib\")"
   ]
  }
 ],
 "metadata": {
  "kernelspec": {
   "display_name": "Python 3",
   "language": "python",
   "name": "python3"
  },
  "language_info": {
   "codemirror_mode": {
    "name": "ipython",
    "version": 3
   },
   "file_extension": ".py",
   "mimetype": "text/x-python",
   "name": "python",
   "nbconvert_exporter": "python",
   "pygments_lexer": "ipython3",
   "version": "3.11.1"
  }
 },
 "nbformat": 4,
 "nbformat_minor": 2
}
